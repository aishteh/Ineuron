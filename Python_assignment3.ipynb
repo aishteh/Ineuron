{
 "cells": [
  {
   "cell_type": "markdown",
   "metadata": {},
   "source": [
    "Write a Python Program to implement your own myreduce() function which works exactly\n",
    "like Python's built-in function reduce()"
   ]
  },
  {
   "cell_type": "code",
   "execution_count": 1,
   "metadata": {},
   "outputs": [
    {
     "data": {
      "text/plain": [
       "15"
      ]
     },
     "execution_count": 1,
     "metadata": {},
     "output_type": "execute_result"
    }
   ],
   "source": [
    "def my_reduce(anyfunc,data):\n",
    "    result=data[0]\n",
    "    for item in data[1:]:\n",
    "        result=anyfunc(result,item)\n",
    "    return result\n",
    "summ=0\n",
    "data=[1,2,3,4,5]\n",
    "#Here anyfunc calculates sum of all elements in the list\n",
    "def anyfunc(summ,data):\n",
    "    summ+=data\n",
    "    return summ\n",
    "my_reduce(anyfunc,data)"
   ]
  },
  {
   "cell_type": "markdown",
   "metadata": {},
   "source": [
    "Write a Python program to implement your own myfilter() function which works exactly\n",
    "like Python's built-in function filter()"
   ]
  },
  {
   "cell_type": "code",
   "execution_count": 2,
   "metadata": {},
   "outputs": [
    {
     "name": "stdout",
     "output_type": "stream",
     "text": [
      "[2, 4, 6]\n"
     ]
    }
   ],
   "source": [
    "result=[]\n",
    "def my_filter(anyfunc,data):\n",
    "    for item in data:\n",
    "        if anyfunc(item):\n",
    "            result.append(item)\n",
    "data=[1,2,3,4,5,6]\n",
    "#Here anyfunc finds the even numbers in the list\n",
    "def anyfunc(item):\n",
    "    if item%2==0:\n",
    "        return True\n",
    "my_filter(anyfunc,data)\n",
    "print(result)"
   ]
  },
  {
   "cell_type": "markdown",
   "metadata": {},
   "source": [
    "Implement List comprehensions to produce the following lists.\n",
    "['A', 'C', 'A', 'D', 'G', 'I', ’L’, ‘ D’]\n",
    "['x', 'xx', 'xxx', 'xxxx', 'y', 'yy', 'yyy', 'yyyy', 'z', 'zz', 'zzz', 'zzzz']\n",
    "['x', 'y', 'z', 'xx', 'yy', 'zz', 'xxx', 'yyy', 'zzz', 'xxxx', 'yyyy', 'zzzz']\n",
    "[[2], [3], [4], [3], [4], [5], [4], [5], [6]] [[2, 3, 4, 5], [3, 4, 5, 6],\n",
    "[4, 5, 6, 7], [5, 6, 7, 8]]\n",
    "[(1, 1), (2, 1), (3, 1), (1, 2), (2, 2), (3, 2), (1, 3), (2, 3), (3, 3)]"
   ]
  },
  {
   "cell_type": "code",
   "execution_count": 3,
   "metadata": {},
   "outputs": [
    {
     "name": "stdout",
     "output_type": "stream",
     "text": [
      "['A', 'C', 'A', 'D', 'G', 'I', 'L', 'D']\n",
      "['X', 'XX', 'XXX', 'XXXX', 'Y', 'YY', 'YYY', 'YYYY', 'Z', 'ZZ', 'ZZZ', 'ZZZZ']\n",
      "['X', 'Y', 'Z', 'XX', 'YY', 'ZZ', 'XXX', 'YYY', 'ZZZ', 'XXXX', 'YYYY', 'ZZZZ']\n",
      "[[2], [3], [4], [3], [4], [5], [4], [5], [6]]\n",
      "[[2, 3, 4, 5], [3, 4, 5, 6], [4, 5, 6, 7], [5, 6, 7, 8]]\n",
      "[(1, 1), (2, 1), (3, 1), (1, 2), (2, 2), (3, 2), (1, 3), (2, 3), (3, 3)]\n"
     ]
    }
   ],
   "source": [
    "word='ACADGILD'\n",
    "word1=[w for w in word]\n",
    "print(word1)\n",
    "\n",
    "word='XYZ'\n",
    "word1=[x*n for x in word for n in range(1,5)]\n",
    "print(word1)\n",
    "\n",
    "word='XYZ'\n",
    "word1=[x*n for n in range(1,5) for x in word]\n",
    "print(word1)\n",
    "\n",
    "number=[2,3,4]\n",
    "number1=[[x+n] for x in number for n in range(0,3)]\n",
    "print(number1)\n",
    "\n",
    "number=[2,3,4,5]\n",
    "number1=[[x+n for n in range(0,4)] for x in number]\n",
    "print(number1)\n",
    "\n",
    "A=[1,2,3]\n",
    "B=[1,2,3]\n",
    "product=[(b,a) for a in A for b in B]\n",
    "print(product)"
   ]
  },
  {
   "cell_type": "code",
   "execution_count": null,
   "metadata": {},
   "outputs": [],
   "source": []
  }
 ],
 "metadata": {
  "kernelspec": {
   "display_name": "Python 3",
   "language": "python",
   "name": "python3"
  },
  "language_info": {
   "codemirror_mode": {
    "name": "ipython",
    "version": 3
   },
   "file_extension": ".py",
   "mimetype": "text/x-python",
   "name": "python",
   "nbconvert_exporter": "python",
   "pygments_lexer": "ipython3",
   "version": "3.8.5"
  }
 },
 "nbformat": 4,
 "nbformat_minor": 4
}
